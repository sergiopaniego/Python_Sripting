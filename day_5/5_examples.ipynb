{
 "cells": [
  {
   "cell_type": "markdown",
   "metadata": {},
   "source": [
    "# 1. Modular programming"
   ]
  },
  {
   "cell_type": "markdown",
   "metadata": {},
   "source": [
    "**Creating functions**"
   ]
  },
  {
   "cell_type": "code",
   "execution_count": null,
   "metadata": {},
   "outputs": [],
   "source": [
    "def add(a, b):\n",
    "    return a + b\n",
    "\n",
    "result = add(5, 10)\n",
    "print(\"The result is:\", result)  # Output: The result is: 15\n"
   ]
  },
  {
   "cell_type": "markdown",
   "metadata": {},
   "source": [
    "**Organizing Code into Modules**"
   ]
  },
  {
   "cell_type": "code",
   "execution_count": null,
   "metadata": {},
   "outputs": [],
   "source": [
    "# math_operations.py\n"
   ]
  },
  {
   "cell_type": "code",
   "execution_count": 1,
   "metadata": {},
   "outputs": [
    {
     "name": "stdout",
     "output_type": "stream",
     "text": [
      "Addition Result: 15\n",
      "Subtraction Result: 5\n"
     ]
    }
   ],
   "source": [
    "# main.py\n",
    "import math_operations\n",
    "\n",
    "result_add = math_operations.add(5, 10)\n",
    "result_subtract = math_operations.subtract(10, 5)\n",
    "print(\"Addition Result:\", result_add)      # Output: Addition Result: 15\n",
    "print(\"Subtraction Result:\", result_subtract)  # Output: Subtraction Result: 5\n"
   ]
  },
  {
   "cell_type": "markdown",
   "metadata": {},
   "source": [
    "**Creating a Package**"
   ]
  },
  {
   "cell_type": "code",
   "execution_count": 2,
   "metadata": {},
   "outputs": [
    {
     "name": "stdout",
     "output_type": "stream",
     "text": [
      "8\n"
     ]
    }
   ],
   "source": [
    "from my_package import math_operations\n",
    "\n",
    "print(math_operations.add(5, 3))  # Output: 8"
   ]
  },
  {
   "cell_type": "code",
   "execution_count": 5,
   "metadata": {},
   "outputs": [
    {
     "name": "stdout",
     "output_type": "stream",
     "text": [
      "Concatenated: HelloWorld\n",
      "Uppercase: HELLOWORLD\n",
      "Lowercase: helloworld\n",
      "Reversed: dlroWolleH\n"
     ]
    }
   ],
   "source": [
    "from my_package import string_operations\n",
    "\n",
    "str1 = \"Hello\"\n",
    "str2 = \"World\"\n",
    "\n",
    "# Concatenating two strings\n",
    "concatenated = string_operations.concatenate(str1, str2)\n",
    "print(\"Concatenated:\", concatenated)  # Output: Concatenated: HelloWorld\n",
    "\n",
    "# Converting to uppercase\n",
    "upper_str = string_operations.to_uppercase(concatenated)\n",
    "print(\"Uppercase:\", upper_str)  # Output: Uppercase: HELLOWORLD\n",
    "\n",
    "# Converting to lowercase\n",
    "lower_str = string_operations.to_lowercase(upper_str)\n",
    "print(\"Lowercase:\", lower_str)  # Output: Lowercase: helloworld\n",
    "\n",
    "# Reversing a string\n",
    "reversed_str = string_operations.reverse_string(concatenated)\n",
    "print(\"Reversed:\", reversed_str)  # Output: Reversed: dlroWolleH"
   ]
  },
  {
   "cell_type": "markdown",
   "metadata": {},
   "source": [
    "**Making Scripts Portable**"
   ]
  },
  {
   "cell_type": "code",
   "execution_count": 3,
   "metadata": {},
   "outputs": [],
   "source": [
    "# portable_script.py"
   ]
  }
 ],
 "metadata": {
  "kernelspec": {
   "display_name": "venv",
   "language": "python",
   "name": "python3"
  },
  "language_info": {
   "codemirror_mode": {
    "name": "ipython",
    "version": 3
   },
   "file_extension": ".py",
   "mimetype": "text/x-python",
   "name": "python",
   "nbconvert_exporter": "python",
   "pygments_lexer": "ipython3",
   "version": "3.12.6"
  }
 },
 "nbformat": 4,
 "nbformat_minor": 2
}
