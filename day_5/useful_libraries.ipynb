{
 "cells": [
  {
   "cell_type": "markdown",
   "metadata": {},
   "source": [
    "# 1. Useful libraries"
   ]
  },
  {
   "cell_type": "markdown",
   "metadata": {},
   "source": [
    "**Using `psutil` for System Monitoring**"
   ]
  },
  {
   "cell_type": "code",
   "execution_count": 1,
   "metadata": {},
   "outputs": [
    {
     "name": "stdout",
     "output_type": "stream",
     "text": [
      "CPU Usage: 11.4%\n",
      "Memory Usage: 64.6% used out of 16384.00 MB\n",
      "Disk Usage: 13.3% used out of 233.47 GB\n"
     ]
    }
   ],
   "source": [
    "import psutil\n",
    "\n",
    "def system_info():\n",
    "    # Get CPU usage\n",
    "    cpu_usage = psutil.cpu_percent(interval=1)\n",
    "    print(f\"CPU Usage: {cpu_usage}%\")\n",
    "\n",
    "    # Get memory usage\n",
    "    memory = psutil.virtual_memory()\n",
    "    print(f\"Memory Usage: {memory.percent}% used out of {memory.total / (1024**2):.2f} MB\")\n",
    "\n",
    "    # Get disk usage\n",
    "    disk = psutil.disk_usage('/')\n",
    "    print(f\"Disk Usage: {disk.percent}% used out of {disk.total / (1024**3):.2f} GB\")\n",
    "\n",
    "if __name__ == \"__main__\":\n",
    "    system_info()\n"
   ]
  },
  {
   "cell_type": "markdown",
   "metadata": {},
   "source": [
    "**Using `requests` for HTTP Requests**"
   ]
  },
  {
   "cell_type": "code",
   "execution_count": 2,
   "metadata": {},
   "outputs": [
    {
     "name": "stdout",
     "output_type": "stream",
     "text": [
      "User Data:\n",
      "Username: octocat\n",
      "Public Repos: 8\n"
     ]
    }
   ],
   "source": [
    "import requests\n",
    "\n",
    "def fetch_data(url):\n",
    "    try:\n",
    "        response = requests.get(url)\n",
    "        response.raise_for_status()  # Raise an error for bad responses\n",
    "        return response.json()  # Return the JSON response if successful\n",
    "    except requests.exceptions.RequestException as e:\n",
    "        print(f\"Error fetching data: {e}\")\n",
    "        return None\n",
    "\n",
    "if __name__ == \"__main__\":\n",
    "    url = \"https://api.github.com/users/octocat\"\n",
    "    data = fetch_data(url)\n",
    "    if data:\n",
    "        print(\"User Data:\")\n",
    "        print(f\"Username: {data['login']}\")\n",
    "        print(f\"Public Repos: {data['public_repos']}\")\n"
   ]
  },
  {
   "cell_type": "markdown",
   "metadata": {},
   "source": [
    "**Handling CSV Data**"
   ]
  },
  {
   "cell_type": "code",
   "execution_count": 3,
   "metadata": {},
   "outputs": [
    {
     "name": "stdout",
     "output_type": "stream",
     "text": [
      "Data written to people.csv\n",
      "\n",
      "Reading from CSV:\n",
      "['Name', 'Age', 'City']\n",
      "['Alice', '30', 'New York']\n",
      "['Bob', '25', 'San Francisco']\n"
     ]
    }
   ],
   "source": [
    "import csv\n",
    "\n",
    "# Writing to a CSV file\n",
    "def write_csv(filename):\n",
    "    with open(filename, mode='w', newline='') as file:\n",
    "        writer = csv.writer(file)\n",
    "        writer.writerow(['Name', 'Age', 'City'])  # Header\n",
    "        writer.writerow(['Alice', 30, 'New York'])\n",
    "        writer.writerow(['Bob', 25, 'San Francisco'])\n",
    "\n",
    "# Reading from a CSV file\n",
    "def read_csv(filename):\n",
    "    with open(filename, mode='r') as file:\n",
    "        reader = csv.reader(file)\n",
    "        for row in reader:\n",
    "            print(row)\n",
    "\n",
    "if __name__ == \"__main__\":\n",
    "    csv_filename = 'people.csv'\n",
    "    write_csv(csv_filename)\n",
    "    print(f\"Data written to {csv_filename}\")\n",
    "    \n",
    "    print(\"\\nReading from CSV:\")\n",
    "    read_csv(csv_filename)\n"
   ]
  },
  {
   "cell_type": "markdown",
   "metadata": {},
   "source": [
    "**Handling JSON Data**"
   ]
  },
  {
   "cell_type": "code",
   "execution_count": 4,
   "metadata": {},
   "outputs": [
    {
     "name": "stdout",
     "output_type": "stream",
     "text": [
      "Data written to people.json\n",
      "\n",
      "Reading from JSON:\n",
      "{\n",
      "    \"people\": [\n",
      "        {\n",
      "            \"name\": \"Alice\",\n",
      "            \"age\": 30,\n",
      "            \"city\": \"New York\"\n",
      "        },\n",
      "        {\n",
      "            \"name\": \"Bob\",\n",
      "            \"age\": 25,\n",
      "            \"city\": \"San Francisco\"\n",
      "        }\n",
      "    ]\n",
      "}\n"
     ]
    }
   ],
   "source": [
    "import json\n",
    "\n",
    "# Writing to a JSON file\n",
    "def write_json(filename):\n",
    "    data = {\n",
    "        'people': [\n",
    "            {'name': 'Alice', 'age': 30, 'city': 'New York'},\n",
    "            {'name': 'Bob', 'age': 25, 'city': 'San Francisco'}\n",
    "        ]\n",
    "    }\n",
    "    with open(filename, mode='w') as file:\n",
    "        json.dump(data, file, indent=4)\n",
    "\n",
    "# Reading from a JSON file\n",
    "def read_json(filename):\n",
    "    with open(filename, mode='r') as file:\n",
    "        data = json.load(file)\n",
    "        print(json.dumps(data, indent=4))  # Pretty print\n",
    "\n",
    "if __name__ == \"__main__\":\n",
    "    json_filename = 'people.json'\n",
    "    write_json(json_filename)\n",
    "    print(f\"Data written to {json_filename}\")\n",
    "\n",
    "    print(\"\\nReading from JSON:\")\n",
    "    read_json(json_filename)\n"
   ]
  },
  {
   "cell_type": "markdown",
   "metadata": {},
   "source": [
    "**`paramiko`: SSH Connectivity**"
   ]
  },
  {
   "cell_type": "code",
   "execution_count": null,
   "metadata": {},
   "outputs": [],
   "source": [
    "import paramiko\n",
    "\n",
    "def ssh_connect(hostname, username, password):\n",
    "    client = paramiko.SSHClient()\n",
    "    client.set_missing_host_key_policy(paramiko.AutoAddPolicy())\n",
    "    client.connect(hostname, username=username, password=password)\n",
    "    stdin, stdout, stderr = client.exec_command('ls')\n",
    "    print(stdout.read().decode())\n",
    "    client.close()\n",
    "\n",
    "ssh_connect('your_server_ip', 'your_username', 'your_password')\n"
   ]
  },
  {
   "cell_type": "markdown",
   "metadata": {},
   "source": [
    "**`fabric`: Remote Command Execution**"
   ]
  },
  {
   "cell_type": "code",
   "execution_count": null,
   "metadata": {},
   "outputs": [],
   "source": [
    "!pip install fabric"
   ]
  },
  {
   "cell_type": "code",
   "execution_count": null,
   "metadata": {},
   "outputs": [],
   "source": [
    "from fabric import Connection\n",
    "\n",
    "def run_command():\n",
    "    with Connection('your_username@your_server_ip') as conn:\n",
    "        result = conn.run('uname -a', hide=True)\n",
    "        print(result.stdout.strip())\n",
    "\n",
    "run_command()\n"
   ]
  },
  {
   "cell_type": "markdown",
   "metadata": {},
   "source": [
    "**`click`: Command-Line Interface**"
   ]
  },
  {
   "cell_type": "code",
   "execution_count": null,
   "metadata": {},
   "outputs": [],
   "source": [
    "!pip install click"
   ]
  },
  {
   "cell_type": "code",
   "execution_count": null,
   "metadata": {},
   "outputs": [],
   "source": [
    "import click\n",
    "\n",
    "@click.command()\n",
    "@click.argument('name')\n",
    "def greet(name):\n",
    "    \"\"\"Simple program that greets NAME.\"\"\"\n",
    "    click.echo(f'Hello, {name}!')\n",
    "\n",
    "if __name__ == '__main__':\n",
    "    greet()\n"
   ]
  },
  {
   "cell_type": "markdown",
   "metadata": {},
   "source": [
    "**`rich`: Enhanced Terminal Output**"
   ]
  },
  {
   "cell_type": "code",
   "execution_count": null,
   "metadata": {},
   "outputs": [],
   "source": [
    "!pip install rich"
   ]
  },
  {
   "cell_type": "code",
   "execution_count": 19,
   "metadata": {},
   "outputs": [
    {
     "data": {
      "text/html": [
       "<pre style=\"white-space:pre;overflow-x:auto;line-height:normal;font-family:Menlo,'DejaVu Sans Mono',consolas,'Courier New',monospace\"><span style=\"font-style: italic\">       User Information        </span>\n",
       "┏━━━━━━━┳━━━━━┳━━━━━━━━━━━━━━━┓\n",
       "┃<span style=\"font-weight: bold\"> Name  </span>┃<span style=\"font-weight: bold\"> Age </span>┃<span style=\"font-weight: bold\">          City </span>┃\n",
       "┡━━━━━━━╇━━━━━╇━━━━━━━━━━━━━━━┩\n",
       "│ Alice │ 30  │      New York │\n",
       "│ Bob   │ 25  │ San Francisco │\n",
       "└───────┴─────┴───────────────┘\n",
       "</pre>\n"
      ],
      "text/plain": [
       "\u001b[3m       User Information        \u001b[0m\n",
       "┏━━━━━━━┳━━━━━┳━━━━━━━━━━━━━━━┓\n",
       "┃\u001b[1m \u001b[0m\u001b[1mName \u001b[0m\u001b[1m \u001b[0m┃\u001b[1m \u001b[0m\u001b[1mAge\u001b[0m\u001b[1m \u001b[0m┃\u001b[1m \u001b[0m\u001b[1m         City\u001b[0m\u001b[1m \u001b[0m┃\n",
       "┡━━━━━━━╇━━━━━╇━━━━━━━━━━━━━━━┩\n",
       "│ Alice │ 30  │      New York │\n",
       "│ Bob   │ 25  │ San Francisco │\n",
       "└───────┴─────┴───────────────┘\n"
      ]
     },
     "metadata": {},
     "output_type": "display_data"
    }
   ],
   "source": [
    "from rich.console import Console\n",
    "from rich.table import Table\n",
    "\n",
    "def display_table():\n",
    "    console = Console()\n",
    "    table = Table(title=\"User Information\")\n",
    "    table.add_column(\"Name\", justify=\"left\")\n",
    "    table.add_column(\"Age\", justify=\"center\")\n",
    "    table.add_column(\"City\", justify=\"right\")\n",
    "\n",
    "    table.add_row(\"Alice\", \"30\", \"New York\")\n",
    "    table.add_row(\"Bob\", \"25\", \"San Francisco\")\n",
    "    \n",
    "    console.print(table)\n",
    "\n",
    "display_table()\n"
   ]
  },
  {
   "cell_type": "markdown",
   "metadata": {},
   "source": [
    "**`loguru`: Simplified Logging**"
   ]
  },
  {
   "cell_type": "code",
   "execution_count": null,
   "metadata": {},
   "outputs": [],
   "source": [
    "!pip install loguru"
   ]
  },
  {
   "cell_type": "code",
   "execution_count": 21,
   "metadata": {},
   "outputs": [
    {
     "name": "stderr",
     "output_type": "stream",
     "text": [
      "\u001b[32m2024-09-30 15:26:35.882\u001b[0m | \u001b[1mINFO    \u001b[0m | \u001b[36m__main__\u001b[0m:\u001b[36mmain\u001b[0m:\u001b[36m6\u001b[0m - \u001b[1mThis is an info message.\u001b[0m\n",
      "\u001b[32m2024-09-30 15:26:35.885\u001b[0m | \u001b[31m\u001b[1mERROR   \u001b[0m | \u001b[36m__main__\u001b[0m:\u001b[36mmain\u001b[0m:\u001b[36m7\u001b[0m - \u001b[31m\u001b[1mThis is an error message.\u001b[0m\n"
     ]
    }
   ],
   "source": [
    "from loguru import logger\n",
    "\n",
    "logger.add(\"file.log\", rotation=\"1 MB\")  # Automatically rotate logs\n",
    "\n",
    "def main():\n",
    "    logger.info(\"This is an info message.\")\n",
    "    logger.error(\"This is an error message.\")\n",
    "\n",
    "main()\n"
   ]
  },
  {
   "cell_type": "markdown",
   "metadata": {},
   "source": [
    "**`pandas`: Data Manipulation**"
   ]
  },
  {
   "cell_type": "code",
   "execution_count": null,
   "metadata": {},
   "outputs": [],
   "source": [
    "!pip install pandas"
   ]
  },
  {
   "cell_type": "code",
   "execution_count": 23,
   "metadata": {},
   "outputs": [
    {
     "name": "stdout",
     "output_type": "stream",
     "text": [
      "      Name  Age           City\n",
      "0    Alice   30       New York\n",
      "1      Bob   25  San Francisco\n",
      "2  Charlie   35    Los Angeles\n"
     ]
    }
   ],
   "source": [
    "import pandas as pd\n",
    "\n",
    "def create_dataframe():\n",
    "    data = {\n",
    "        'Name': ['Alice', 'Bob', 'Charlie'],\n",
    "        'Age': [30, 25, 35],\n",
    "        'City': ['New York', 'San Francisco', 'Los Angeles']\n",
    "    }\n",
    "    df = pd.DataFrame(data)\n",
    "    print(df)\n",
    "\n",
    "create_dataframe()\n"
   ]
  },
  {
   "cell_type": "markdown",
   "metadata": {},
   "source": [
    "**`OpenCV`: Image Processing**"
   ]
  },
  {
   "cell_type": "code",
   "execution_count": null,
   "metadata": {},
   "outputs": [],
   "source": [
    "!pip install opencv-python"
   ]
  },
  {
   "cell_type": "code",
   "execution_count": null,
   "metadata": {},
   "outputs": [],
   "source": [
    "import cv2\n",
    "\n",
    "def load_and_display_image(image_path):\n",
    "    image = cv2.imread(image_path)\n",
    "    cv2.imshow('Image', image)\n",
    "    cv2.waitKey(0)\n",
    "    cv2.destroyAllWindows()\n",
    "\n",
    "load_and_display_image('path_to_image.jpg')\n"
   ]
  },
  {
   "cell_type": "markdown",
   "metadata": {},
   "source": [
    "**`pyodbc`: Database Connection**"
   ]
  },
  {
   "cell_type": "code",
   "execution_count": null,
   "metadata": {},
   "outputs": [],
   "source": [
    "!pip install pyodbc"
   ]
  },
  {
   "cell_type": "code",
   "execution_count": null,
   "metadata": {},
   "outputs": [],
   "source": [
    "import pyodbc\n",
    "\n",
    "def connect_to_db():\n",
    "    conn = pyodbc.connect('DRIVER={SQL Server};SERVER=your_server;DATABASE=your_db;UID=user;PWD=password')\n",
    "    cursor = conn.cursor()\n",
    "    cursor.execute('SELECT * FROM your_table')\n",
    "    \n",
    "    for row in cursor.fetchall():\n",
    "        print(row)\n",
    "\n",
    "connect_to_db()\n"
   ]
  },
  {
   "cell_type": "markdown",
   "metadata": {},
   "source": [
    "**`PyYAML`: YAML Parsing**"
   ]
  },
  {
   "cell_type": "code",
   "execution_count": null,
   "metadata": {},
   "outputs": [],
   "source": [
    "!pip install PyYAML"
   ]
  },
  {
   "cell_type": "code",
   "execution_count": null,
   "metadata": {},
   "outputs": [],
   "source": [
    "import yaml\n",
    "\n",
    "def read_yaml():\n",
    "    with open('config.yaml', 'r') as file:\n",
    "        config = yaml.safe_load(file)\n",
    "        print(config)\n",
    "\n",
    "read_yaml()\n"
   ]
  },
  {
   "cell_type": "markdown",
   "metadata": {},
   "source": [
    "**`SQLAlchemy`: ORM Usage**"
   ]
  },
  {
   "cell_type": "code",
   "execution_count": null,
   "metadata": {},
   "outputs": [],
   "source": [
    "!pip install SQLAlchemy"
   ]
  },
  {
   "cell_type": "code",
   "execution_count": null,
   "metadata": {},
   "outputs": [],
   "source": [
    "from sqlalchemy import create_engine, Column, Integer, String\n",
    "from sqlalchemy.ext.declarative import declarative_base\n",
    "from sqlalchemy.orm import sessionmaker\n",
    "\n",
    "Base = declarative_base()\n",
    "\n",
    "class User(Base):\n",
    "    __tablename__ = 'users'\n",
    "    id = Column(Integer, primary_key=True)\n",
    "    name = Column(String)\n",
    "    age = Column(Integer)\n",
    "\n",
    "engine = create_engine('sqlite:///users.db')\n",
    "Base.metadata.create_all(engine)\n",
    "Session = sessionmaker(bind=engine)\n",
    "session = Session()\n",
    "\n",
    "new_user = User(name='Alice', age=30)\n",
    "session.add(new_user)\n",
    "session.commit()\n"
   ]
  },
  {
   "cell_type": "markdown",
   "metadata": {},
   "source": [
    "**`scrapy`: Web Scraping**"
   ]
  },
  {
   "cell_type": "code",
   "execution_count": null,
   "metadata": {},
   "outputs": [],
   "source": [
    "!pip install scrapy"
   ]
  },
  {
   "cell_type": "code",
   "execution_count": 41,
   "metadata": {},
   "outputs": [],
   "source": [
    "# my_spider.py\n",
    "import scrapy\n",
    "\n",
    "class MySpider(scrapy.Spider):\n",
    "    name = 'my_spider'\n",
    "    start_urls = ['http://quotes.toscrape.com']\n",
    "\n",
    "    def parse(self, response):\n",
    "        for quote in response.css('div.quote'):\n",
    "            yield {\n",
    "                'text': quote.css('span.text::text').get(),\n",
    "                'author': quote.css('small.author::text').get(),\n",
    "            }\n"
   ]
  },
  {
   "cell_type": "markdown",
   "metadata": {},
   "source": [
    "**`Docker SDK for Python`: Container Management**"
   ]
  },
  {
   "cell_type": "code",
   "execution_count": null,
   "metadata": {},
   "outputs": [],
   "source": [
    "!pip install docker"
   ]
  },
  {
   "cell_type": "code",
   "execution_count": null,
   "metadata": {},
   "outputs": [],
   "source": [
    "import docker\n",
    "\n",
    "def list_containers():\n",
    "    client = docker.from_env()\n",
    "    containers = client.containers.list()\n",
    "    for container in containers:\n",
    "        print(container.name)\n",
    "\n",
    "list_containers()\n"
   ]
  },
  {
   "cell_type": "markdown",
   "metadata": {},
   "source": [
    "**`boto3`: AWS Resource Management**"
   ]
  },
  {
   "cell_type": "code",
   "execution_count": null,
   "metadata": {},
   "outputs": [],
   "source": [
    "!pip install boto3"
   ]
  },
  {
   "cell_type": "code",
   "execution_count": null,
   "metadata": {},
   "outputs": [],
   "source": [
    "import boto3\n",
    "\n",
    "def list_s3_buckets():\n",
    "    s3 = boto3.client('s3')\n",
    "    response = s3.list_buckets()\n",
    "    \n",
    "    print(\"Existing buckets:\")\n",
    "    for bucket in response['Buckets']:\n",
    "        print(f'  {bucket[\"Name\"]}')\n",
    "\n",
    "list_s3_buckets()\n"
   ]
  },
  {
   "cell_type": "markdown",
   "metadata": {},
   "source": [
    "# 2. Apscheduler"
   ]
  },
  {
   "cell_type": "markdown",
   "metadata": {},
   "source": [
    "**Installation**"
   ]
  },
  {
   "cell_type": "code",
   "execution_count": null,
   "metadata": {},
   "outputs": [],
   "source": [
    "!pip install APScheduler"
   ]
  },
  {
   "cell_type": "markdown",
   "metadata": {},
   "source": [
    "**Basic Usage Example**"
   ]
  },
  {
   "cell_type": "code",
   "execution_count": null,
   "metadata": {},
   "outputs": [],
   "source": [
    "from apscheduler.schedulers.background import BackgroundScheduler\n",
    "import time\n",
    "\n",
    "def maintenance_task():\n",
    "    print(\"Running maintenance task...\")\n",
    "\n",
    "# Create a scheduler\n",
    "scheduler = BackgroundScheduler()\n",
    "\n",
    "# Schedule the maintenance task every 10 seconds\n",
    "scheduler.add_job(maintenance_task, 'interval', seconds=10)\n",
    "\n",
    "# Start the scheduler\n",
    "scheduler.start()\n",
    "\n",
    "try:\n",
    "    # Keep the script running\n",
    "    while True:\n",
    "        time.sleep(1)\n",
    "except (KeyboardInterrupt, SystemExit):\n",
    "    # Shut down the scheduler on exit\n",
    "    scheduler.shutdown()\n"
   ]
  },
  {
   "cell_type": "markdown",
   "metadata": {},
   "source": [
    "**Running Cron Jobs**"
   ]
  },
  {
   "cell_type": "code",
   "execution_count": 49,
   "metadata": {},
   "outputs": [],
   "source": [
    "from apscheduler.schedulers.background import BackgroundScheduler\n",
    "\n",
    "def scheduled_job():\n",
    "    print(\"This job runs every day at 10:00 AM\")\n",
    "\n",
    "scheduler = BackgroundScheduler()\n",
    "scheduler.add_job(scheduled_job, 'cron', hour=10, minute=0)\n",
    "scheduler.start()\n",
    "\n",
    "# Keeping the script running...\n"
   ]
  }
 ],
 "metadata": {
  "kernelspec": {
   "display_name": "venv",
   "language": "python",
   "name": "python3"
  },
  "language_info": {
   "codemirror_mode": {
    "name": "ipython",
    "version": 3
   },
   "file_extension": ".py",
   "mimetype": "text/x-python",
   "name": "python",
   "nbconvert_exporter": "python",
   "pygments_lexer": "ipython3",
   "version": "3.12.6"
  }
 },
 "nbformat": 4,
 "nbformat_minor": 2
}
