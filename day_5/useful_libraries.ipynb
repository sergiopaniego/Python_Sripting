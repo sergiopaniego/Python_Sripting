{
 "cells": [
  {
   "cell_type": "markdown",
   "metadata": {},
   "source": [
    "# Useful libraries"
   ]
  },
  {
   "cell_type": "markdown",
   "metadata": {},
   "source": [
    "Using psutil for System Monitoring"
   ]
  },
  {
   "cell_type": "code",
   "execution_count": null,
   "metadata": {},
   "outputs": [],
   "source": [
    "import psutil\n",
    "\n",
    "def system_info():\n",
    "    # Get CPU usage\n",
    "    cpu_usage = psutil.cpu_percent(interval=1)\n",
    "    print(f\"CPU Usage: {cpu_usage}%\")\n",
    "\n",
    "    # Get memory usage\n",
    "    memory = psutil.virtual_memory()\n",
    "    print(f\"Memory Usage: {memory.percent}% used out of {memory.total / (1024**2):.2f} MB\")\n",
    "\n",
    "    # Get disk usage\n",
    "    disk = psutil.disk_usage('/')\n",
    "    print(f\"Disk Usage: {disk.percent}% used out of {disk.total / (1024**3):.2f} GB\")\n",
    "\n",
    "if __name__ == \"__main__\":\n",
    "    system_info()\n"
   ]
  },
  {
   "cell_type": "markdown",
   "metadata": {},
   "source": [
    "Using requests for HTTP Requests "
   ]
  },
  {
   "cell_type": "code",
   "execution_count": null,
   "metadata": {},
   "outputs": [],
   "source": [
    "import requests\n",
    "\n",
    "def fetch_data(url):\n",
    "    try:\n",
    "        response = requests.get(url)\n",
    "        response.raise_for_status()  # Raise an error for bad responses\n",
    "        return response.json()  # Return the JSON response if successful\n",
    "    except requests.exceptions.RequestException as e:\n",
    "        print(f\"Error fetching data: {e}\")\n",
    "        return None\n",
    "\n",
    "if __name__ == \"__main__\":\n",
    "    url = \"https://api.github.com/users/octocat\"\n",
    "    data = fetch_data(url)\n",
    "    if data:\n",
    "        print(\"User Data:\")\n",
    "        print(f\"Username: {data['login']}\")\n",
    "        print(f\"Public Repos: {data['public_repos']}\")\n"
   ]
  },
  {
   "cell_type": "markdown",
   "metadata": {},
   "source": [
    "Handling CSV Data"
   ]
  },
  {
   "cell_type": "code",
   "execution_count": null,
   "metadata": {},
   "outputs": [],
   "source": [
    "import csv\n",
    "\n",
    "# Writing to a CSV file\n",
    "def write_csv(filename):\n",
    "    with open(filename, mode='w', newline='') as file:\n",
    "        writer = csv.writer(file)\n",
    "        writer.writerow(['Name', 'Age', 'City'])  # Header\n",
    "        writer.writerow(['Alice', 30, 'New York'])\n",
    "        writer.writerow(['Bob', 25, 'San Francisco'])\n",
    "\n",
    "# Reading from a CSV file\n",
    "def read_csv(filename):\n",
    "    with open(filename, mode='r') as file:\n",
    "        reader = csv.reader(file)\n",
    "        for row in reader:\n",
    "            print(row)\n",
    "\n",
    "if __name__ == \"__main__\":\n",
    "    csv_filename = 'people.csv'\n",
    "    write_csv(csv_filename)\n",
    "    print(f\"Data written to {csv_filename}\")\n",
    "    \n",
    "    print(\"\\nReading from CSV:\")\n",
    "    read_csv(csv_filename)\n"
   ]
  },
  {
   "cell_type": "markdown",
   "metadata": {},
   "source": [
    "Handling JSON Data"
   ]
  },
  {
   "cell_type": "code",
   "execution_count": null,
   "metadata": {},
   "outputs": [],
   "source": [
    "import json\n",
    "\n",
    "# Writing to a JSON file\n",
    "def write_json(filename):\n",
    "    data = {\n",
    "        'people': [\n",
    "            {'name': 'Alice', 'age': 30, 'city': 'New York'},\n",
    "            {'name': 'Bob', 'age': 25, 'city': 'San Francisco'}\n",
    "        ]\n",
    "    }\n",
    "    with open(filename, mode='w') as file:\n",
    "        json.dump(data, file, indent=4)\n",
    "\n",
    "# Reading from a JSON file\n",
    "def read_json(filename):\n",
    "    with open(filename, mode='r') as file:\n",
    "        data = json.load(file)\n",
    "        print(json.dumps(data, indent=4))  # Pretty print\n",
    "\n",
    "if __name__ == \"__main__\":\n",
    "    json_filename = 'people.json'\n",
    "    write_json(json_filename)\n",
    "    print(f\"Data written to {json_filename}\")\n",
    "\n",
    "    print(\"\\nReading from JSON:\")\n",
    "    read_json(json_filename)\n"
   ]
  },
  {
   "cell_type": "markdown",
   "metadata": {},
   "source": [
    "Paramiko: SSH Connectivity"
   ]
  },
  {
   "cell_type": "code",
   "execution_count": null,
   "metadata": {},
   "outputs": [],
   "source": [
    "import paramiko\n",
    "\n",
    "def ssh_connect(hostname, username, password):\n",
    "    client = paramiko.SSHClient()\n",
    "    client.set_missing_host_key_policy(paramiko.AutoAddPolicy())\n",
    "    client.connect(hostname, username=username, password=password)\n",
    "    stdin, stdout, stderr = client.exec_command('ls')\n",
    "    print(stdout.read().decode())\n",
    "    client.close()\n",
    "\n",
    "ssh_connect('your_server_ip', 'your_username', 'your_password')\n"
   ]
  },
  {
   "cell_type": "markdown",
   "metadata": {},
   "source": [
    "Fabric: Remote Command Execution"
   ]
  },
  {
   "cell_type": "code",
   "execution_count": null,
   "metadata": {},
   "outputs": [],
   "source": [
    "from fabric import Connection\n",
    "\n",
    "def run_command():\n",
    "    with Connection('your_username@your_server_ip') as conn:\n",
    "        result = conn.run('uname -a', hide=True)\n",
    "        print(result.stdout.strip())\n",
    "\n",
    "run_command()\n"
   ]
  },
  {
   "cell_type": "markdown",
   "metadata": {},
   "source": [
    "Click: Command-Line Interface"
   ]
  },
  {
   "cell_type": "code",
   "execution_count": null,
   "metadata": {},
   "outputs": [],
   "source": [
    "import click\n",
    "\n",
    "@click.command()\n",
    "@click.argument('name')\n",
    "def greet(name):\n",
    "    \"\"\"Simple program that greets NAME.\"\"\"\n",
    "    click.echo(f'Hello, {name}!')\n",
    "\n",
    "if __name__ == '__main__':\n",
    "    greet()\n"
   ]
  },
  {
   "cell_type": "markdown",
   "metadata": {},
   "source": [
    "Rich: Enhanced Terminal Output"
   ]
  },
  {
   "cell_type": "code",
   "execution_count": null,
   "metadata": {},
   "outputs": [],
   "source": [
    "from rich.console import Console\n",
    "from rich.table import Table\n",
    "\n",
    "def display_table():\n",
    "    console = Console()\n",
    "    table = Table(title=\"User Information\")\n",
    "    table.add_column(\"Name\", justify=\"left\")\n",
    "    table.add_column(\"Age\", justify=\"center\")\n",
    "    table.add_column(\"City\", justify=\"right\")\n",
    "\n",
    "    table.add_row(\"Alice\", \"30\", \"New York\")\n",
    "    table.add_row(\"Bob\", \"25\", \"San Francisco\")\n",
    "    \n",
    "    console.print(table)\n",
    "\n",
    "display_table()\n"
   ]
  },
  {
   "cell_type": "markdown",
   "metadata": {},
   "source": [
    "Loguru: Simplified Logging"
   ]
  },
  {
   "cell_type": "code",
   "execution_count": null,
   "metadata": {},
   "outputs": [],
   "source": [
    "from loguru import logger\n",
    "\n",
    "logger.add(\"file.log\", rotation=\"1 MB\")  # Automatically rotate logs\n",
    "\n",
    "def main():\n",
    "    logger.info(\"This is an info message.\")\n",
    "    logger.error(\"This is an error message.\")\n",
    "\n",
    "main()\n"
   ]
  },
  {
   "cell_type": "markdown",
   "metadata": {},
   "source": [
    "Pandas: Data Manipulation"
   ]
  },
  {
   "cell_type": "code",
   "execution_count": null,
   "metadata": {},
   "outputs": [],
   "source": [
    "import pandas as pd\n",
    "\n",
    "def create_dataframe():\n",
    "    data = {\n",
    "        'Name': ['Alice', 'Bob', 'Charlie'],\n",
    "        'Age': [30, 25, 35],\n",
    "        'City': ['New York', 'San Francisco', 'Los Angeles']\n",
    "    }\n",
    "    df = pd.DataFrame(data)\n",
    "    print(df)\n",
    "\n",
    "create_dataframe()\n"
   ]
  },
  {
   "cell_type": "markdown",
   "metadata": {},
   "source": [
    "OpenCV: Image Processing"
   ]
  },
  {
   "cell_type": "code",
   "execution_count": null,
   "metadata": {},
   "outputs": [],
   "source": [
    "import cv2\n",
    "\n",
    "def load_and_display_image(image_path):\n",
    "    image = cv2.imread(image_path)\n",
    "    cv2.imshow('Image', image)\n",
    "    cv2.waitKey(0)\n",
    "    cv2.destroyAllWindows()\n",
    "\n",
    "load_and_display_image('path_to_image.jpg')\n"
   ]
  },
  {
   "cell_type": "markdown",
   "metadata": {},
   "source": [
    "pyodbc: Database Connection"
   ]
  },
  {
   "cell_type": "code",
   "execution_count": null,
   "metadata": {},
   "outputs": [],
   "source": [
    "import pyodbc\n",
    "\n",
    "def connect_to_db():\n",
    "    conn = pyodbc.connect('DRIVER={SQL Server};SERVER=your_server;DATABASE=your_db;UID=user;PWD=password')\n",
    "    cursor = conn.cursor()\n",
    "    cursor.execute('SELECT * FROM your_table')\n",
    "    \n",
    "    for row in cursor.fetchall():\n",
    "        print(row)\n",
    "\n",
    "connect_to_db()\n"
   ]
  },
  {
   "cell_type": "markdown",
   "metadata": {},
   "source": [
    "PyYAML: YAML Parsing"
   ]
  },
  {
   "cell_type": "code",
   "execution_count": null,
   "metadata": {},
   "outputs": [],
   "source": [
    "import yaml\n",
    "\n",
    "def read_yaml():\n",
    "    with open('config.yaml', 'r') as file:\n",
    "        config = yaml.safe_load(file)\n",
    "        print(config)\n",
    "\n",
    "read_yaml()\n"
   ]
  },
  {
   "cell_type": "markdown",
   "metadata": {},
   "source": [
    "SQLAlchemy: ORM Usage"
   ]
  },
  {
   "cell_type": "code",
   "execution_count": null,
   "metadata": {},
   "outputs": [],
   "source": [
    "from sqlalchemy import create_engine, Column, Integer, String\n",
    "from sqlalchemy.ext.declarative import declarative_base\n",
    "from sqlalchemy.orm import sessionmaker\n",
    "\n",
    "Base = declarative_base()\n",
    "\n",
    "class User(Base):\n",
    "    __tablename__ = 'users'\n",
    "    id = Column(Integer, primary_key=True)\n",
    "    name = Column(String)\n",
    "    age = Column(Integer)\n",
    "\n",
    "engine = create_engine('sqlite:///users.db')\n",
    "Base.metadata.create_all(engine)\n",
    "Session = sessionmaker(bind=engine)\n",
    "session = Session()\n",
    "\n",
    "new_user = User(name='Alice', age=30)\n",
    "session.add(new_user)\n",
    "session.commit()\n"
   ]
  },
  {
   "cell_type": "markdown",
   "metadata": {},
   "source": [
    "Ansible: Automation (Command-Line Example)"
   ]
  },
  {
   "cell_type": "code",
   "execution_count": null,
   "metadata": {},
   "outputs": [],
   "source": [
    "!pip install ansible-runner"
   ]
  },
  {
   "cell_type": "code",
   "execution_count": null,
   "metadata": {},
   "outputs": [],
   "source": [
    "# playbook.yml\n",
    "---\n",
    "- hosts: localhost\n",
    "  tasks:\n",
    "    - name: Print a message\n",
    "      debug:\n",
    "        msg: \"Hello from Ansible!\"\n"
   ]
  },
  {
   "cell_type": "code",
   "execution_count": null,
   "metadata": {},
   "outputs": [],
   "source": [
    "import ansible_runner\n",
    "\n",
    "def run_ansible_playbook(playbook_path):\n",
    "    runner = ansible_runner.run(private_data_dir='.', playbook=playbook_path)\n",
    "    \n",
    "    print(\"Status:\", runner.status)\n",
    "    print(\"RC:\", runner.rc)\n",
    "    \n",
    "    for event in runner.events:\n",
    "        if event['event'] == 'runner_on_ok':\n",
    "            print(\"Task succeeded:\", event['event_data']['task'], \"with result:\", event['event_data']['result'])\n",
    "\n",
    "if __name__ == \"__main__\":\n",
    "    run_ansible_playbook('playbook.yml')\n"
   ]
  },
  {
   "cell_type": "markdown",
   "metadata": {},
   "source": [
    "Scrapy: Web Scraping"
   ]
  },
  {
   "cell_type": "code",
   "execution_count": null,
   "metadata": {},
   "outputs": [],
   "source": [
    "# my_spider.py\n",
    "import scrapy\n",
    "\n",
    "class MySpider(scrapy.Spider):\n",
    "    name = 'my_spider'\n",
    "    start_urls = ['http://quotes.toscrape.com']\n",
    "\n",
    "    def parse(self, response):\n",
    "        for quote in response.css('div.quote'):\n",
    "            yield {\n",
    "                'text': quote.css('span.text::text').get(),\n",
    "                'author': quote.css('small.author::text').get(),\n",
    "            }\n"
   ]
  },
  {
   "cell_type": "markdown",
   "metadata": {},
   "source": [
    "Docker SDK for Python: Container Management"
   ]
  },
  {
   "cell_type": "code",
   "execution_count": null,
   "metadata": {},
   "outputs": [],
   "source": [
    "import docker\n",
    "\n",
    "def list_containers():\n",
    "    client = docker.from_env()\n",
    "    containers = client.containers.list()\n",
    "    for container in containers:\n",
    "        print(container.name)\n",
    "\n",
    "list_containers()\n"
   ]
  },
  {
   "cell_type": "markdown",
   "metadata": {},
   "source": [
    "Boto3: AWS Resource Management"
   ]
  },
  {
   "cell_type": "code",
   "execution_count": null,
   "metadata": {},
   "outputs": [],
   "source": [
    "import boto3\n",
    "\n",
    "def list_s3_buckets():\n",
    "    s3 = boto3.client('s3')\n",
    "    response = s3.list_buckets()\n",
    "    \n",
    "    print(\"Existing buckets:\")\n",
    "    for bucket in response['Buckets']:\n",
    "        print(f'  {bucket[\"Name\"]}')\n",
    "\n",
    "list_s3_buckets()\n"
   ]
  },
  {
   "cell_type": "markdown",
   "metadata": {},
   "source": [
    "# Apscheduler"
   ]
  },
  {
   "cell_type": "markdown",
   "metadata": {},
   "source": [
    "Installation"
   ]
  },
  {
   "cell_type": "code",
   "execution_count": null,
   "metadata": {},
   "outputs": [],
   "source": [
    "!pip install APScheduler"
   ]
  },
  {
   "cell_type": "markdown",
   "metadata": {},
   "source": [
    "Basic Usage Example"
   ]
  },
  {
   "cell_type": "code",
   "execution_count": null,
   "metadata": {},
   "outputs": [],
   "source": [
    "from apscheduler.schedulers.background import BackgroundScheduler\n",
    "import time\n",
    "\n",
    "def maintenance_task():\n",
    "    print(\"Running maintenance task...\")\n",
    "\n",
    "# Create a scheduler\n",
    "scheduler = BackgroundScheduler()\n",
    "\n",
    "# Schedule the maintenance task every 10 seconds\n",
    "scheduler.add_job(maintenance_task, 'interval', seconds=10)\n",
    "\n",
    "# Start the scheduler\n",
    "scheduler.start()\n",
    "\n",
    "try:\n",
    "    # Keep the script running\n",
    "    while True:\n",
    "        time.sleep(1)\n",
    "except (KeyboardInterrupt, SystemExit):\n",
    "    # Shut down the scheduler on exit\n",
    "    scheduler.shutdown()\n"
   ]
  },
  {
   "cell_type": "markdown",
   "metadata": {},
   "source": [
    "Running Cron Jobs"
   ]
  },
  {
   "cell_type": "code",
   "execution_count": null,
   "metadata": {},
   "outputs": [],
   "source": [
    "from apscheduler.schedulers.background import BackgroundScheduler\n",
    "\n",
    "def scheduled_job():\n",
    "    print(\"This job runs every day at 10:00 AM\")\n",
    "\n",
    "scheduler = BackgroundScheduler()\n",
    "scheduler.add_job(scheduled_job, 'cron', hour=10, minute=0)\n",
    "scheduler.start()\n",
    "\n",
    "# Keeping the script running...\n"
   ]
  }
 ],
 "metadata": {
  "language_info": {
   "name": "python"
  }
 },
 "nbformat": 4,
 "nbformat_minor": 2
}
