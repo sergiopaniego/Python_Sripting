{
  "cells": [
    {
      "cell_type": "markdown",
      "metadata": {},
      "source": [
        "# Exercises"
      ]
    },
    {
      "cell_type": "markdown",
      "metadata": {},
      "source": [
        "**Exercise 1: Variables and Types**\n",
        "\n",
        "Create a set of variables of different types and print their types."
      ]
    },
    {
      "cell_type": "code",
      "execution_count": 2,
      "metadata": {},
      "outputs": [
        {
          "name": "stdout",
          "output_type": "stream",
          "text": [
            "Type of integer_var: <class 'int'>\n",
            "Type of float_var: <class 'float'>\n",
            "Type of string_var: <class 'str'>\n",
            "Type of boolean_var: <class 'bool'>\n",
            "Type of list_var: <class 'list'>\n",
            "Type of tuple_var: <class 'tuple'>\n",
            "Type of dict_var: <class 'dict'>\n",
            "Type of set_var: <class 'set'>\n"
          ]
        }
      ],
      "source": [
        "# Define variables of different types\n",
        "integer_var = 10          # Integer\n",
        "float_var = 3.14          # Float\n",
        "string_var = \"Hello\"      # String\n",
        "boolean_var = True        # Boolean\n",
        "list_var = [1, 2, 3]      # List\n",
        "tuple_var = (4, 5, 6)     # Tuple\n",
        "dict_var = {\"a\": 1, \"b\": 2} # Dictionary\n",
        "set_var = {7, 8, 9}       # Set\n",
        "\n",
        "# Print the types of each variable\n",
        "print(\"Type of integer_var:\", type(integer_var))\n",
        "print(\"Type of float_var:\", type(float_var))\n",
        "print(\"Type of string_var:\", type(string_var))\n",
        "print(\"Type of boolean_var:\", type(boolean_var))\n",
        "print(\"Type of list_var:\", type(list_var))\n",
        "print(\"Type of tuple_var:\", type(tuple_var))\n",
        "print(\"Type of dict_var:\", type(dict_var))\n",
        "print(\"Type of set_var:\", type(set_var))\n"
      ]
    },
    {
      "cell_type": "markdown",
      "metadata": {},
      "source": [
        "**Exercise 2: Type Conversion**\n",
        "\n",
        "Convert an integer to a float and a float to an integer. Then, print the results."
      ]
    },
    {
      "cell_type": "code",
      "execution_count": 2,
      "metadata": {},
      "outputs": [
        {
          "name": "stdout",
          "output_type": "stream",
          "text": [
            "Integer to float: 42.0\n",
            "Float to integer: 3\n"
          ]
        }
      ],
      "source": [
        "# Define an integer and a float\n",
        "integer_var = 42\n",
        "float_var = 3.99\n",
        "\n",
        "# Convert integer to float\n",
        "converted_to_float = float(integer_var)\n",
        "\n",
        "# Convert float to integer\n",
        "converted_to_int = int(float_var)\n",
        "\n",
        "# Print the results\n",
        "print(\"Integer to float:\", converted_to_float)\n",
        "print(\"Float to integer:\", converted_to_int)\n"
      ]
    },
    {
      "cell_type": "markdown",
      "metadata": {},
      "source": [
        "**Exercise 3: Lists**\n",
        "\n",
        "Create a list of items (e.g., groceries) and perform basic operations (add, remove, slice)."
      ]
    },
    {
      "cell_type": "code",
      "execution_count": 3,
      "metadata": {},
      "outputs": [
        {
          "name": "stdout",
          "output_type": "stream",
          "text": [
            "Updated groceries list: ['milk', 'eggs', 'butter', 'cheese', 'apples']\n",
            "Sliced groceries (first 3 items): ['milk', 'eggs', 'butter']\n"
          ]
        }
      ],
      "source": [
        "# Create a list of groceries\n",
        "groceries = [\"milk\", \"bread\", \"eggs\", \"butter\", \"cheese\"]\n",
        "\n",
        "# Add an item to the list\n",
        "groceries.append(\"apples\")\n",
        "\n",
        "# Remove an item from the list\n",
        "groceries.remove(\"bread\")\n",
        "\n",
        "# Slice the list (e.g., get the first 3 items)\n",
        "sliced_groceries = groceries[:3]\n",
        "\n",
        "# Print the updated list and the sliced list\n",
        "print(\"Updated groceries list:\", groceries)\n",
        "print(\"Sliced groceries (first 3 items):\", sliced_groceries)\n"
      ]
    },
    {
      "cell_type": "markdown",
      "metadata": {},
      "source": [
        "**Exercise 4: Dictionaries**\n",
        "\n",
        "Create a dictionary to store contact information (name, phone, email)."
      ]
    },
    {
      "cell_type": "code",
      "execution_count": 4,
      "metadata": {},
      "outputs": [
        {
          "name": "stdout",
          "output_type": "stream",
          "text": [
            "Contact Name: John Doe\n",
            "Contact Phone: 123-456-7890\n",
            "Contact Email: john.doe@example.com\n"
          ]
        }
      ],
      "source": [
        "# Create a dictionary to store contact information\n",
        "contact_info = {\n",
        "    \"name\": \"John Doe\",\n",
        "    \"phone\": \"123-456-7890\",\n",
        "    \"email\": \"john.doe@example.com\"\n",
        "}\n",
        "\n",
        "# Print the contact information\n",
        "print(\"Contact Name:\", contact_info[\"name\"])\n",
        "print(\"Contact Phone:\", contact_info[\"phone\"])\n",
        "print(\"Contact Email:\", contact_info[\"email\"])\n"
      ]
    },
    {
      "cell_type": "markdown",
      "metadata": {},
      "source": [
        "**Exercise 5: Conditionals**\n",
        "\n",
        "Write a program that asks for the user's age and prints a message based on the input."
      ]
    },
    {
      "cell_type": "code",
      "execution_count": 6,
      "metadata": {},
      "outputs": [
        {
          "name": "stdout",
          "output_type": "stream",
          "text": [
            "You are an adult.\n"
          ]
        }
      ],
      "source": [
        "# Ask the user for their age\n",
        "age = int(input(\"Enter your age: \"))\n",
        "\n",
        "# Check the age and print the corresponding message\n",
        "if age < 18:\n",
        "    print(\"You are a minor.\")\n",
        "elif age >= 18 and age < 65:\n",
        "    print(\"You are an adult.\")\n",
        "else:\n",
        "    print(\"You are a senior.\")\n"
      ]
    },
    {
      "cell_type": "markdown",
      "metadata": {},
      "source": [
        "**Exercise 6: Loops**\n",
        "\n",
        "Write a program that prints the first 10 numbers in a list using a for loop."
      ]
    },
    {
      "cell_type": "code",
      "execution_count": 7,
      "metadata": {},
      "outputs": [
        {
          "name": "stdout",
          "output_type": "stream",
          "text": [
            "1\n",
            "2\n",
            "3\n",
            "4\n",
            "5\n",
            "6\n",
            "7\n",
            "8\n",
            "9\n",
            "10\n"
          ]
        }
      ],
      "source": [
        "# Create a list of the first 10 numbers\n",
        "numbers = list(range(1, 11))  # [1, 2, 3, ..., 10]\n",
        "\n",
        "# Use a for loop to print each number\n",
        "for number in numbers:\n",
        "    print(number)\n"
      ]
    },
    {
      "cell_type": "markdown",
      "metadata": {},
      "source": [
        "**Exercise 7: Basic Function**\n",
        "\n",
        "Write a function that takes two numbers as arguments and returns their sum."
      ]
    },
    {
      "cell_type": "code",
      "execution_count": 8,
      "metadata": {},
      "outputs": [
        {
          "name": "stdout",
          "output_type": "stream",
          "text": [
            "The sum is: 12\n"
          ]
        }
      ],
      "source": [
        "# Define a function that takes two numbers and returns their sum\n",
        "def add_numbers(a, b):\n",
        "    return a + b\n",
        "\n",
        "# Call the function with two numbers and print the result\n",
        "result = add_numbers(5, 7)\n",
        "print(\"The sum is:\", result)\n"
      ]
    },
    {
      "cell_type": "markdown",
      "metadata": {},
      "source": [
        "**Project: Small Python Program**\n",
        "\n",
        "Create a program that uses at least:\n",
        "* One function.\n",
        "* One conditional statement.\n",
        "* A loop.\n",
        "* Different data types (e.g., list, dictionary).\n",
        "\n",
        "Example: Write a program that asks the user to input a list of expenses and then calculates the total cost."
      ]
    },
    {
      "cell_type": "code",
      "execution_count": 10,
      "metadata": {},
      "outputs": [
        {
          "name": "stdout",
          "output_type": "stream",
          "text": [
            "\n",
            "Expense Summary:\n",
            "Number of expenses: 2\n",
            "Expenses: [13.0, 21.0]\n",
            "Total cost: $ 34.0\n",
            "Your expenses are within the limit.\n"
          ]
        }
      ],
      "source": [
        "# Function to calculate total expenses\n",
        "def calculate_total(expenses):\n",
        "    total = 0\n",
        "    for expense in expenses:\n",
        "        total += expense  # Add each expense to the total\n",
        "    return total\n",
        "\n",
        "# Ask the user for the number of expenses\n",
        "num_expenses = int(input(\"How many expenses do you want to enter? \"))\n",
        "\n",
        "# Create a list to store expenses\n",
        "expense_list = []\n",
        "\n",
        "# Loop to gather the expenses\n",
        "for i in range(num_expenses):\n",
        "    expense = float(input(f\"Enter expense {i+1}: \"))\n",
        "    expense_list.append(expense)\n",
        "\n",
        "# Calculate the total expenses using the function\n",
        "total_cost = calculate_total(expense_list)\n",
        "\n",
        "# Store the details in a dictionary\n",
        "expense_summary = {\n",
        "    \"number_of_expenses\": num_expenses,\n",
        "    \"expenses\": expense_list,\n",
        "    \"total_cost\": total_cost\n",
        "}\n",
        "\n",
        "# Print the summary of expenses\n",
        "print(\"\\nExpense Summary:\")\n",
        "print(\"Number of expenses:\", expense_summary[\"number_of_expenses\"])\n",
        "print(\"Expenses:\", expense_summary[\"expenses\"])\n",
        "print(\"Total cost: $\", expense_summary[\"total_cost\"])\n",
        "\n",
        "# Conditional to give a message based on the total cost\n",
        "if total_cost > 100:\n",
        "    print(\"Warning: You are spending too much!\")\n",
        "else:\n",
        "    print(\"Your expenses are within the limit.\")\n"
      ]
    },
    {
      "cell_type": "code",
      "execution_count": null,
      "metadata": {},
      "outputs": [],
      "source": []
    }
  ],
  "metadata": {
    "colab": {
      "provenance": []
    },
    "kernelspec": {
      "display_name": "Python 3",
      "name": "python3"
    },
    "language_info": {
      "codemirror_mode": {
        "name": "ipython",
        "version": 3
      },
      "file_extension": ".py",
      "mimetype": "text/x-python",
      "name": "python",
      "nbconvert_exporter": "python",
      "pygments_lexer": "ipython3",
      "version": "3.12.6"
    }
  },
  "nbformat": 4,
  "nbformat_minor": 0
}
