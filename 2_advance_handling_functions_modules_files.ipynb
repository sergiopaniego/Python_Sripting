{
  "cells": [
    {
      "cell_type": "markdown",
      "metadata": {
        "id": "Iz6TdUP-30fS"
      },
      "source": [
        "# 0. Tools to program using Python: notebook.\n",
        "* A notebook is divided in cells (code + markdown).\n",
        "* Learn more about markdown: https://www.markdowntutorial.com/ | Markdown cheatsheet: https://www.markdownguide.org/cheat-sheet/\n",
        "* Tips to work with notebooks: https://towardsdatascience.com/7-essential-tips-for-writing-with-jupyter-notebook-60972a1a8901\n",
        "\n",
        "---\n",
        "\n",
        "* Kernel concept.\n",
        "* See the machine state.\n",
        "* Access the directories space.\n",
        "\n",
        "<img src=\"https://docs.jupyter.org/en/latest/_images/notebook_components.png\"/>"
      ]
    },
    {
      "cell_type": "markdown",
      "metadata": {
        "id": "YXw5q2vYFkdC"
      },
      "source": [
        "# 8. Errors and exceptions"
      ]
    },
    {
      "cell_type": "markdown",
      "metadata": {
        "id": "bRDoPTV9F-gr"
      },
      "source": [
        "**Syntax error**"
      ]
    },
    {
      "cell_type": "code",
      "execution_count": null,
      "metadata": {
        "id": "GxbbwDSKFmbF"
      },
      "outputs": [],
      "source": [
        "# Syntax error due to a missing parenthesis\n",
        "\n",
        "print(\"Hello, world\""
      ]
    },
    {
      "cell_type": "markdown",
      "metadata": {
        "id": "So71cRP2GAfx"
      },
      "source": [
        "**Execution error**"
      ]
    },
    {
      "cell_type": "code",
      "execution_count": null,
      "metadata": {
        "id": "1RT0eRe3GC7i"
      },
      "outputs": [],
      "source": [
        "number = 10 / 0"
      ]
    },
    {
      "cell_type": "markdown",
      "metadata": {
        "id": "GTQ8l_y2GM-O"
      },
      "source": [
        "**Use of exception to capture the error and control it**"
      ]
    },
    {
      "cell_type": "code",
      "execution_count": null,
      "metadata": {
        "id": "b05q8svDGP9L"
      },
      "outputs": [],
      "source": [
        "try:\n",
        "    number = 10 / 0  # This will raise a ZeroDivisionError\n",
        "except ZeroDivisionError:\n",
        "    print(\"A division by zero error occurred\")\n"
      ]
    },
    {
      "cell_type": "markdown",
      "metadata": {
        "id": "-l4q0XClGgTR"
      },
      "source": [
        "**Example with 'NameError'**"
      ]
    },
    {
      "cell_type": "code",
      "execution_count": null,
      "metadata": {
        "id": "9dmO7wuFGWY4"
      },
      "outputs": [],
      "source": [
        "# Raises a NameError because the variable 'undefince_variable' is not defined\n",
        "print(undefince_variable)"
      ]
    },
    {
      "cell_type": "code",
      "execution_count": null,
      "metadata": {
        "id": "X5XXL2rZGbts"
      },
      "outputs": [],
      "source": [
        "try:\n",
        "    print(undefince_variable)\n",
        "except NameError:\n",
        "    print(\"Variable 'undefince_variable' is not defined\")"
      ]
    },
    {
      "cell_type": "markdown",
      "metadata": {
        "id": "e1WlCiHeGizF"
      },
      "source": [
        "**Example 'TypeError'**"
      ]
    },
    {
      "cell_type": "code",
      "execution_count": null,
      "metadata": {
        "id": "0IIFBk66Gk8T"
      },
      "outputs": [],
      "source": [
        "# Generates a TypeError because you're trying to add a string with a integer.\n",
        "result = \"10\" + 5"
      ]
    },
    {
      "cell_type": "code",
      "execution_count": null,
      "metadata": {
        "id": "F85BPFtdGwBK"
      },
      "outputs": [],
      "source": [
        "try:\n",
        "    result = \"10\" + 5\n",
        "except TypeError:\n",
        "    print(\"Type Error: Cannot add a string and an integer\")"
      ]
    },
    {
      "cell_type": "markdown",
      "metadata": {
        "id": "x3zddMB_G9k4"
      },
      "source": [
        "# 9. Use of modules and applied methods"
      ]
    },
    {
      "cell_type": "markdown",
      "metadata": {
        "id": "ikR5GR0THF9j"
      },
      "source": [
        "**math**"
      ]
    },
    {
      "cell_type": "code",
      "execution_count": null,
      "metadata": {
        "id": "Z23qBkgPHFau"
      },
      "outputs": [],
      "source": [
        "import math\n",
        "\n",
        "result = math.sqrt(16)  # Calls the sqrt() method from the math module\n",
        "print(re)"
      ]
    },
    {
      "cell_type": "markdown",
      "metadata": {
        "id": "hqOV1d9FHLY1"
      },
      "source": [
        "**random**"
      ]
    },
    {
      "cell_type": "code",
      "execution_count": null,
      "metadata": {
        "id": "g3-2r7M9HNrQ"
      },
      "outputs": [],
      "source": [
        "import random\n",
        "\n",
        "# Generate a random number between 1 and 100\n",
        "random_number = random.randint(1, 100)\n",
        "print(random_number)\n"
      ]
    },
    {
      "cell_type": "markdown",
      "metadata": {
        "id": "aeIqN5VmHReu"
      },
      "source": [
        "**datetime**"
      ]
    },
    {
      "cell_type": "code",
      "execution_count": null,
      "metadata": {
        "id": "HPJGjmCmHTHM"
      },
      "outputs": [],
      "source": [
        "import datetime\n",
        "\n",
        "# Get the current date and time\n",
        "now = datetime.datetime.now()\n",
        "print(f\"Current date and time: {now}\")\n"
      ]
    },
    {
      "cell_type": "markdown",
      "metadata": {
        "id": "6JFn5vHoHWBu"
      },
      "source": [
        "**os**"
      ]
    },
    {
      "cell_type": "code",
      "execution_count": null,
      "metadata": {
        "id": "exlhUCk9HWsV"
      },
      "outputs": [],
      "source": [
        "import os\n",
        "\n",
        "# Get the current working directory\n",
        "current_directory = os.getcwd()\n",
        "print(f\"Current working directory: {current_directory}\")\n"
      ]
    },
    {
      "cell_type": "code",
      "execution_count": null,
      "metadata": {
        "id": "khpscpc4Hfsg"
      },
      "outputs": [],
      "source": [
        "# List files in a directory\n",
        "files = os.listdir(current_directory)\n",
        "print(\"Files in the current directory:\")\n"
      ]
    }
  ],
  "metadata": {
    "colab": {
      "provenance": []
    },
    "kernelspec": {
      "display_name": "Python 3",
      "name": "python3"
    },
    "language_info": {
      "name": "python"
    }
  },
  "nbformat": 4,
  "nbformat_minor": 0
}
