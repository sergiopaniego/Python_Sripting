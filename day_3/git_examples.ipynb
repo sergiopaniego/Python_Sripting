{
 "cells": [
  {
   "cell_type": "markdown",
   "metadata": {},
   "source": [
    "# Git basics"
   ]
  },
  {
   "cell_type": "markdown",
   "metadata": {},
   "source": [
    "## Cloning a repo \n",
    "\n",
    "``` bash\n",
    "git clone https://github.com/your_username/your_repository.git\n",
    "```"
   ]
  },
  {
   "cell_type": "markdown",
   "metadata": {},
   "source": [
    "## Commit to a repo\n",
    "\n",
    "``` bash\n",
    "git add filename.txt\n",
    "git commit -m \"Added filename.txt\"\n",
    "```"
   ]
  },
  {
   "cell_type": "markdown",
   "metadata": {},
   "source": [
    "## Branch management"
   ]
  },
  {
   "cell_type": "markdown",
   "metadata": {},
   "source": [
    "```bash\n",
    "git checkout -b new_branch\n",
    "# Make changes to files...\n",
    "git add modified_filename.txt\n",
    "git commit -m \"Changes in new_branch\"\n",
    "git checkout main\n",
    "git merge new_branch\n",
    "````\n",
    "\n",
    "\n"
   ]
  },
  {
   "cell_type": "markdown",
   "metadata": {},
   "source": [
    "## Practical Exercises (30 min)\n",
    "\n",
    "**Exercise 1:** Clone an existing repository and make a change to a file. Then, make a commit and push to a new branch.\n",
    "\n",
    "Instructions:\n",
    "\n",
    "* Clone the repository.\n",
    "* Change an existing file or add a new one.\n",
    "* Stage, commit, and create a new branch.\n",
    "* Push the new branch to the remote repository.\n",
    "\n",
    "**Exercise 2:** Perform a complete workflow using Git:\n",
    "\n",
    "* Clone a repository.\n",
    "* Create a new branch.\n",
    "* Make changes, stage files, and make a commit.\n",
    "* Merge the new branch with the main branch and push."
   ]
  }
 ],
 "metadata": {
  "language_info": {
   "name": "python"
  }
 },
 "nbformat": 4,
 "nbformat_minor": 2
}
