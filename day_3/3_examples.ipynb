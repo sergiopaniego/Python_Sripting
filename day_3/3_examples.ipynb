{
 "cells": [
  {
   "cell_type": "markdown",
   "metadata": {},
   "source": [
    "## 1. Using subprocess and os"
   ]
  },
  {
   "cell_type": "markdown",
   "metadata": {},
   "source": [
    "**Handling output streams**"
   ]
  },
  {
   "cell_type": "code",
   "execution_count": 2,
   "metadata": {},
   "outputs": [
    {
     "name": "stdout",
     "output_type": "stream",
     "text": [
      "Command '['ls', 'non_existent_directory']' returned non-zero exit status 1.\n"
     ]
    }
   ],
   "source": [
    "import subprocess\n",
    "\n",
    "try:\n",
    "    result = subprocess.run(\n",
    "        [\"ls\", \"non_existent_directory\"],\n",
    "        capture_output=True,\n",
    "        text=True,\n",
    "        check=True  # Raises CalledProcessError for non-zero exit codes\n",
    "    )\n",
    "except subprocess.CalledProcessError as e:\n",
    "    with open(\"error_log.txt\", \"w\") as error_file:\n",
    "        error_file.write(e.stderr)  # Write error message to file\n"
   ]
  },
  {
   "cell_type": "markdown",
   "metadata": {},
   "source": [
    "**Pipelines**"
   ]
  },
  {
   "cell_type": "code",
   "execution_count": 5,
   "metadata": {},
   "outputs": [
    {
     "name": "stdout",
     "output_type": "stream",
     "text": [
      "-rw-r--r--@ 1 sergiopaniegoblanco  staff   1842 Sep 30 15:55 git_examples.ipynb\n",
      "\n"
     ]
    }
   ],
   "source": [
    "import subprocess\n",
    "\n",
    "# Create a pipeline to find files containing 'test'\n",
    "ls_proc = subprocess.Popen([\"ls\", \"-l\"], stdout=subprocess.PIPE)\n",
    "grep_proc = subprocess.Popen([\"grep\", \"git_examples.ipynb\"], stdin=ls_proc.stdout, stdout=subprocess.PIPE)\n",
    "\n",
    "ls_proc.stdout.close()  # Allow ls_proc to receive a SIGPIPE if grep_proc exits\n",
    "output, errors = grep_proc.communicate()  # Capture output\n",
    "\n",
    "print(output.decode())  # Print the filtered output\n"
   ]
  },
  {
   "cell_type": "markdown",
   "metadata": {},
   "source": [
    "**Asyncronous command execution**\n",
    "\n",
    "Running multiple commands in parallels and wait for their completion"
   ]
  },
  {
   "cell_type": "code",
   "execution_count": 13,
   "metadata": {},
   "outputs": [
    {
     "name": "stdout",
     "output_type": "stream",
     "text": [
      "Hello\n",
      "\n",
      "\n",
      "World\n",
      "\n"
     ]
    }
   ],
   "source": [
    "import asyncio\n",
    "import nest_asyncio\n",
    "\n",
    "# Allow nested event loops\n",
    "nest_asyncio.apply()\n",
    "\n",
    "async def run_command(command):\n",
    "    process = await asyncio.create_subprocess_exec(*command, stdout=asyncio.subprocess.PIPE)\n",
    "    stdout, _ = await process.communicate()\n",
    "    return stdout.decode()\n",
    "\n",
    "async def main():\n",
    "    commands = [[\"echo\", \"Hello\"], [\"sleep\", \"2\"], [\"echo\", \"World\"]]\n",
    "    results = await asyncio.gather(*(run_command(cmd) for cmd in commands))\n",
    "    print(\"\\n\".join(results))\n",
    "\n",
    "asyncio.run(main())\n"
   ]
  },
  {
   "cell_type": "markdown",
   "metadata": {},
   "source": [
    "**Environment variables**"
   ]
  },
  {
   "cell_type": "code",
   "execution_count": null,
   "metadata": {},
   "outputs": [],
   "source": [
    "import os\n",
    "import subprocess\n",
    "\n",
    "# Modify the PATH environment variable\n",
    "my_env = os.environ.copy()\n",
    "my_env[\"PATH\"] = \"/custom/path:\" + my_env[\"PATH\"]\n",
    "\n",
    "result = subprocess.run(\n",
    "    [\"my_command\"],\n",
    "    env=my_env,\n",
    "    capture_output=True,\n",
    "    text=True\n",
    ")\n",
    "\n",
    "print(result.stdout)\n"
   ]
  },
  {
   "cell_type": "markdown",
   "metadata": {},
   "source": [
    "**Error handling and retries**"
   ]
  },
  {
   "cell_type": "code",
   "execution_count": null,
   "metadata": {},
   "outputs": [],
   "source": [
    "import subprocess\n",
    "import time\n",
    "\n",
    "def run_with_retries(command, retries=3):\n",
    "    for attempt in range(retries):\n",
    "        try:\n",
    "            result = subprocess.run(command, check=True, capture_output=True)\n",
    "            return result.stdout\n",
    "        except subprocess.CalledProcessError as e:\n",
    "            print(f\"Attempt {attempt + 1} failed: {e}\")\n",
    "            time.sleep(1)  # Wait before retrying\n",
    "    raise Exception(\"Command failed after multiple attempts.\")\n",
    "\n",
    "output = run_with_retries([\"curl\", \"http://example.com\"])\n",
    "print(output.decode())\n"
   ]
  },
  {
   "cell_type": "markdown",
   "metadata": {},
   "source": [
    "## 2. Files and directories manipulation"
   ]
  },
  {
   "cell_type": "markdown",
   "metadata": {},
   "source": [
    "**File creation**"
   ]
  },
  {
   "cell_type": "code",
   "execution_count": 23,
   "metadata": {},
   "outputs": [],
   "source": [
    "with open(\"example.txt\", \"w\") as file:\n",
    "    file.write(\"Hello, World!\")\n"
   ]
  },
  {
   "cell_type": "markdown",
   "metadata": {},
   "source": [
    "**Copying a file**"
   ]
  },
  {
   "cell_type": "code",
   "execution_count": 24,
   "metadata": {},
   "outputs": [
    {
     "data": {
      "text/plain": [
       "'example_copy.txt'"
      ]
     },
     "execution_count": 24,
     "metadata": {},
     "output_type": "execute_result"
    }
   ],
   "source": [
    "import shutil\n",
    "shutil.copy(\"example.txt\", \"example_copy.txt\")\n"
   ]
  },
  {
   "cell_type": "markdown",
   "metadata": {},
   "source": [
    "**Removing a file**"
   ]
  },
  {
   "cell_type": "code",
   "execution_count": 25,
   "metadata": {},
   "outputs": [],
   "source": [
    "import os\n",
    "os.remove(\"example_copy.txt\")"
   ]
  },
  {
   "cell_type": "markdown",
   "metadata": {},
   "source": [
    "**Creating and removing directories**"
   ]
  },
  {
   "cell_type": "code",
   "execution_count": 29,
   "metadata": {},
   "outputs": [],
   "source": [
    "os.makedirs(\"example_dir\", exist_ok=True)"
   ]
  },
  {
   "cell_type": "code",
   "execution_count": 30,
   "metadata": {},
   "outputs": [],
   "source": [
    "shutil.rmtree(\"example_dir\")"
   ]
  },
  {
   "cell_type": "markdown",
   "metadata": {},
   "source": [
    "**Reading log files**"
   ]
  },
  {
   "cell_type": "code",
   "execution_count": 36,
   "metadata": {},
   "outputs": [
    {
     "name": "stdout",
     "output_type": "stream",
     "text": [
      "[2024-09-30 10:01:23] INFO: System started.\n",
      "[2024-09-30 10:02:45] WARNING: Low disk space on drive C.\n",
      "[2024-09-30 10:03:11] ERROR: Failed to connect to the database.\n",
      "[2024-09-30 10:04:55] INFO: Connection to the database re-established.\n",
      "[2024-09-30 10:05:33] INFO: Backup started.\n",
      "[2024-09-30 10:07:15] INFO: Backup completed successfully.\n",
      "[2024-09-30 10:08:45] ERROR: Network timeout during sync operation.\n",
      "[2024-09-30 10:09:22] INFO: Sync operation resumed.\n"
     ]
    }
   ],
   "source": [
    "with open(\"logfile.log\", \"r\") as log_file:\n",
    "    for line in log_file:\n",
    "        print(line.strip())\n"
   ]
  },
  {
   "cell_type": "markdown",
   "metadata": {},
   "source": [
    "**Filtering logs entries**"
   ]
  },
  {
   "cell_type": "code",
   "execution_count": 1,
   "metadata": {},
   "outputs": [
    {
     "name": "stdout",
     "output_type": "stream",
     "text": [
      "[2024-09-30 10:03:11] ERROR: Failed to connect to the database.\n",
      "[2024-09-30 10:08:45] ERROR: Network timeout during sync operation.\n"
     ]
    }
   ],
   "source": [
    "with open(\"logfile.log\", \"r\") as log_file:\n",
    "    for line in log_file:\n",
    "        if \"ERROR\" in line:\n",
    "            print(line.strip())\n"
   ]
  },
  {
   "cell_type": "markdown",
   "metadata": {},
   "source": [
    "**Writing to log files**"
   ]
  },
  {
   "cell_type": "code",
   "execution_count": 45,
   "metadata": {},
   "outputs": [],
   "source": [
    "with open(\"logfile.log\", \"a\") as log_file:\n",
    "    log_file.write(\"New log entry\\n\")\n"
   ]
  },
  {
   "cell_type": "markdown",
   "metadata": {},
   "source": [
    "## Regular expressions in Python using `re`"
   ]
  },
  {
   "cell_type": "markdown",
   "metadata": {},
   "source": [
    "**Basic matching**"
   ]
  },
  {
   "cell_type": "code",
   "execution_count": 14,
   "metadata": {},
   "outputs": [
    {
     "name": "stdout",
     "output_type": "stream",
     "text": [
      "Match found!\n"
     ]
    }
   ],
   "source": [
    "import re\n",
    "\n",
    "text = \"Hello, World!\"\n",
    "pattern = r\"Hello\"\n",
    "\n",
    "if re.search(pattern, text):\n",
    "    print(\"Match found!\")\n",
    "else:\n",
    "    print(\"No match.\")\n"
   ]
  },
  {
   "cell_type": "markdown",
   "metadata": {},
   "source": [
    "**Extracting digits**"
   ]
  },
  {
   "cell_type": "code",
   "execution_count": 22,
   "metadata": {},
   "outputs": [
    {
     "name": "stdout",
     "output_type": "stream",
     "text": [
      "Digits found: ['42']\n"
     ]
    }
   ],
   "source": [
    "import re\n",
    "\n",
    "text = \"The price is 42 dollars.\"\n",
    "pattern = r\"\\d+\"  # Match one or more digits\n",
    "\n",
    "digits = re.findall(pattern, text)\n",
    "print(\"Digits found:\", digits)\n"
   ]
  },
  {
   "cell_type": "markdown",
   "metadata": {},
   "source": [
    "**Email validation**"
   ]
  },
  {
   "cell_type": "code",
   "execution_count": 24,
   "metadata": {},
   "outputs": [
    {
     "name": "stdout",
     "output_type": "stream",
     "text": [
      "example@gmail.com: True\n",
      "invalid-email@: False\n",
      "user.name@domain.co.uk: True\n"
     ]
    }
   ],
   "source": [
    "import re\n",
    "\n",
    "def validate_email(email):\n",
    "    pattern = r'^[a-zA-Z0-9._%+-]+@[a-zA-Z0-9.-]+\\.[a-zA-Z]{2,}$'\n",
    "    if re.match(pattern, email):\n",
    "        return True\n",
    "    return False\n",
    "\n",
    "# Test the function\n",
    "emails = [\"example@gmail.com\", \"invalid-email@\", \"user.name@domain.co.uk\"]\n",
    "for email in emails:\n",
    "    print(f\"{email}: {validate_email(email)}\")\n"
   ]
  },
  {
   "cell_type": "markdown",
   "metadata": {},
   "source": [
    "**Extracting phone numbers**"
   ]
  },
  {
   "cell_type": "code",
   "execution_count": 17,
   "metadata": {},
   "outputs": [
    {
     "name": "stdout",
     "output_type": "stream",
     "text": [
      "Extracted Phone Numbers: ['123-456-7890', '987.654.3210', '555 666 7777']\n"
     ]
    }
   ],
   "source": [
    "import re\n",
    "\n",
    "def extract_phone_numbers(text):\n",
    "    pattern = r'\\b\\d{3}[-.\\s]?\\d{3}[-.\\s]?\\d{4}\\b'\n",
    "    return re.findall(pattern, text)\n",
    "\n",
    "# Sample text containing phone numbers\n",
    "sample_text = \"Call me at 123-456-7890 or 987.654.3210. My office number is 555 666 7777.\"\n",
    "phone_numbers = extract_phone_numbers(sample_text)\n",
    "print(\"Extracted Phone Numbers:\", phone_numbers)\n"
   ]
  },
  {
   "cell_type": "markdown",
   "metadata": {},
   "source": [
    "**Replacing words**"
   ]
  },
  {
   "cell_type": "code",
   "execution_count": 26,
   "metadata": {},
   "outputs": [
    {
     "name": "stdout",
     "output_type": "stream",
     "text": [
      "Original Text: The cat sat on the mat. The cat is fat.\n",
      "Updated Text: The dog sat on the mat. The dog is fat.\n"
     ]
    }
   ],
   "source": [
    "import re\n",
    "\n",
    "def replace_word(text, old_word, new_word):\n",
    "    pattern = re.escape(old_word)\n",
    "    return re.sub(pattern, new_word, text)\n",
    "\n",
    "# Test the function\n",
    "original_text = \"The cat sat on the mat. The cat is fat.\"\n",
    "updated_text = replace_word(original_text, \"cat\", \"dog\")\n",
    "print(\"Original Text:\", original_text)\n",
    "print(\"Updated Text:\", updated_text)\n"
   ]
  },
  {
   "cell_type": "markdown",
   "metadata": {},
   "source": [
    "**Finding all occurrences of a pattern**"
   ]
  },
  {
   "cell_type": "code",
   "execution_count": 30,
   "metadata": {},
   "outputs": [
    {
     "name": "stdout",
     "output_type": "stream",
     "text": [
      "Occurrences of 'cat' or 'cats': ['cats', 'cats']\n"
     ]
    }
   ],
   "source": [
    "import re\n",
    "\n",
    "def find_all_occurrences(text, pattern):\n",
    "    return re.findall(pattern, text)\n",
    "\n",
    "# Sample text\n",
    "sample_text = \"I love cats. Cats are great pets. I also love dogs.\"\n",
    "pattern = r'cats?'\n",
    "occurrences = find_all_occurrences(sample_text.lower(), pattern)\n",
    "print(\"Occurrences of 'cat' or 'cats':\", occurrences)\n"
   ]
  },
  {
   "cell_type": "markdown",
   "metadata": {},
   "source": [
    "**Compiling regular expressions**"
   ]
  },
  {
   "cell_type": "code",
   "execution_count": 36,
   "metadata": {},
   "outputs": [
    {
     "name": "stdout",
     "output_type": "stream",
     "text": [
      "Found SSN: 123-45-6789\n"
     ]
    }
   ],
   "source": [
    "import re\n",
    "\n",
    "# Compile a regex pattern for better performance\n",
    "pattern = re.compile(r'\\d{3}-\\d{2}-\\d{4}')  # Social Security Number format\n",
    "\n",
    "# Test the compiled pattern\n",
    "text = \"My SSN is 123-45-6789.\"\n",
    "match = pattern.search(text)\n",
    "if match:\n",
    "    print(\"Found SSN:\", match.group())\n",
    "else:\n",
    "    print(\"No SSN found.\")\n"
   ]
  }
 ],
 "metadata": {
  "kernelspec": {
   "display_name": "Python 3",
   "language": "python",
   "name": "python3"
  },
  "language_info": {
   "codemirror_mode": {
    "name": "ipython",
    "version": 3
   },
   "file_extension": ".py",
   "mimetype": "text/x-python",
   "name": "python",
   "nbconvert_exporter": "python",
   "pygments_lexer": "ipython3",
   "version": "3.12.6"
  }
 },
 "nbformat": 4,
 "nbformat_minor": 2
}
